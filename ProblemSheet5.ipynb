{
 "cells": [
  {
   "cell_type": "markdown",
   "metadata": {},
   "source": [
    "## <center>Problem Sheet #5</center>\n",
    "\n",
    "<img src=\"tanareletmod.gif\" width=\"700\">\n",
    "\n",
    "##  Estimating errors in numerical solutions\n",
    "\n",
    "### Estimates from the analytical solution\n",
    "\n",
    "<b>Problem 1.</b> Let us condsider the IVP\n",
    "\n",
    "\\begin{cases}\n",
    "u'(t)= -u^2(t),&\\\\\n",
    "u(1)=1. &\n",
    "\\end{cases}\n",
    "\n",
    "Then the analytical solution is $u(t)=\\frac{1}{t}$. Calculate the global error in maximum norm in time $t=10$ if we applied the Explicit Euler method to this problem in case of step-size $0.2,\\ 0.1$ and $0.05$. Based on what we have learned estimate the order of convergence by calculating the consecutive error ratios."
   ]
  },
  {
   "cell_type": "code",
   "execution_count": null,
   "metadata": {},
   "outputs": [],
   "source": []
  },
  {
   "cell_type": "markdown",
   "metadata": {},
   "source": [
    "<br>\n",
    "<b>Problem 2.</b> Write codes for the previous problem on time interval $[1,10]$ which estimate the order of convergence of\n",
    "\n",
    "+ Explicit Euler\n",
    "+ RK2\n",
    "+ RK4\n",
    "\n",
    "methods starting from step-size $h=0.2$ and halfing it five times in\n",
    "\n",
    "+ maximum norm\n",
    "+ 1-norm\n",
    "+ 2-norm.\n",
    "<br>\n",
    "<br>"
   ]
  },
  {
   "cell_type": "code",
   "execution_count": 1,
   "metadata": {},
   "outputs": [
    {
     "name": "stdout",
     "output_type": "stream",
     "text": [
      "order_max =\n",
      "\n",
      "   1.1268   1.0573   1.0261   1.0128   1.0063\n",
      "\n",
      "order_1 =\n",
      "\n",
      "   1.0582   1.0273   1.0133   1.0066   1.0033\n",
      "\n",
      "order_2 =\n",
      "\n",
      "   1.0824   1.0362   1.0171   1.0083   1.0041\n",
      "\n"
     ]
    }
   ],
   "source": [
    "%% Explicit Euler\n",
    "%% Maxmimum norm, 1-norm and 2-norm"
   ]
  },
  {
   "cell_type": "code",
   "execution_count": 2,
   "metadata": {},
   "outputs": [
    {
     "name": "stdout",
     "output_type": "stream",
     "text": [
      "order_max =\n",
      "\n",
      "   2.1860   2.1018   2.0506   2.0252   2.0126\n",
      "\n",
      "order_1 =\n",
      "\n",
      "   2.1712   2.0859   2.0428   2.0213   2.0106\n",
      "\n",
      "order_2 =\n",
      "\n",
      "   2.1878   2.0932   2.0460   2.0228   2.0114\n",
      "\n"
     ]
    }
   ],
   "source": [
    "%% Repeat a similar computation for RK2"
   ]
  },
  {
   "cell_type": "code",
   "execution_count": 3,
   "metadata": {},
   "outputs": [
    {
     "name": "stdout",
     "output_type": "stream",
     "text": [
      "order_max =\n",
      "\n",
      "   3.8674   3.9671   3.9937   3.9984   3.9995\n",
      "\n",
      "order_1 =\n",
      "\n",
      "   3.8716   3.9730   3.9939   3.9986   3.9997\n",
      "\n",
      "order_2 =\n",
      "\n",
      "   3.8740   3.9748   3.9943   3.9986   3.9997\n",
      "\n"
     ]
    }
   ],
   "source": [
    "%% Repeat a similar computation for RK4"
   ]
  },
  {
   "cell_type": "markdown",
   "metadata": {},
   "source": [
    "<br>\n",
    "\n",
    "### Estimates from a fine-grid solution\n",
    "\n",
    "<br>\n",
    "<b>Problem 3.</b> Estimate from $N=2^{14}$ fine-grid solution the order of convergence in case of $N=2^{6}, 2^{7}, 2^{8}$\n",
    "\n",
    "(a) for RK4 in 2-norm<br>\n",
    "(b) for RK2 in 1-norm<br>\n",
    "(c) for Explicit Euler in maximum norm<br><br>\n",
    "\n",
    "Change the paramter $N$. What can we experience?\n",
    "<br>"
   ]
  },
  {
   "cell_type": "code",
   "execution_count": 2,
   "metadata": {},
   "outputs": [
    {
     "name": "stdout",
     "output_type": "stream",
     "text": [
      "ans =  16385\n",
      "ans =  65\n",
      "ans =  129\n",
      "ans =  257\n",
      "order_2 =\n",
      "\n",
      "   3.9456   3.9882\n",
      "\n"
     ]
    }
   ],
   "source": [
    "%% RK4 in 2-norm"
   ]
  },
  {
   "cell_type": "code",
   "execution_count": 8,
   "metadata": {},
   "outputs": [
    {
     "name": "stdout",
     "output_type": "stream",
     "text": [
      "order_1 =\n",
      "\n",
      "   2.1208   2.0603\n",
      "\n"
     ]
    }
   ],
   "source": [
    "%% RK2 in 1-norm"
   ]
  },
  {
   "cell_type": "code",
   "execution_count": 2,
   "metadata": {},
   "outputs": [
    {
     "name": "stdout",
     "output_type": "stream",
     "text": [
      "order_max =\n",
      "\n",
      "   1.0856   1.0408\n",
      "\n"
     ]
    }
   ],
   "source": [
    "%% Explicit Euler in maximum norm"
   ]
  },
  {
   "cell_type": "markdown",
   "metadata": {},
   "source": [
    "\n",
    "### Estimates from coarser solutions\n",
    "\n",
    "#### First approach\n",
    "\n",
    "<b>Problem 4.</b> Estimate from $N=90$ coarse solution the order of convergence based on the first approach\n",
    "\n",
    "(a) for Explicit Euler in maximum norm<br>\n",
    "(b) for RK2 in 1-norm<br><br>\n",
    "\n",
    "Change the paramter $N$. What can we experience?\n",
    "<br>"
   ]
  },
  {
   "cell_type": "code",
   "execution_count": 4,
   "metadata": {},
   "outputs": [
    {
     "name": "stdout",
     "output_type": "stream",
     "text": [
      "order_2 =  1.0857\n"
     ]
    }
   ],
   "source": [
    "%% Explicit Euler in maximum norm"
   ]
  },
  {
   "cell_type": "code",
   "execution_count": 5,
   "metadata": {},
   "outputs": [
    {
     "name": "stdout",
     "output_type": "stream",
     "text": [
      "order_1 =  2.0998\n"
     ]
    }
   ],
   "source": [
    "%% RK2 in 1-norm"
   ]
  },
  {
   "cell_type": "markdown",
   "metadata": {},
   "source": [
    "#### Second approach\n",
    "<br>\n",
    "\n",
    "<b>Problem 5.</b> [Assignment] Estimate from $N=2^7$ coarse solution the order of convergence based on the second approach\n",
    "\n",
    "(a) for RK2 in maximum norm<br>\n",
    "(b) for RK4 in 2-norm<br><br>\n",
    "\n",
    "What can we experience?\n",
    "<br>"
   ]
  },
  {
   "cell_type": "code",
   "execution_count": null,
   "metadata": {},
   "outputs": [],
   "source": []
  },
  {
   "cell_type": "markdown",
   "metadata": {
    "collapsed": true
   },
   "source": [
    "### Applying the learned techniques to the system case\n",
    "<br>\n",
    "\n",
    "<b>Problem 6.</b> Let us consider the Assignment (Problem 6.) from Problem Sheet #4. Let us apply the RK4 method to the two-compartment dilution process and estimate the order of convergence\n",
    "<br><br>\n",
    "\n",
    "(a) in maximum norm if we estimate the order from the analytical solution<br>\n",
    "(b) in 2-norm if we estimate the order from a fine-grid solution<br>\n",
    "[Extra] in 1-norm if we estimate the order from a coarse solution by using both of the approaches<br>"
   ]
  },
  {
   "cell_type": "code",
   "execution_count": 9,
   "metadata": {},
   "outputs": [
    {
     "name": "stdout",
     "output_type": "stream",
     "text": [
      "order_comp_1 =\n",
      "\n",
      "   4.0376   4.0188   4.0094   4.0059\n",
      "\n",
      "order_comp_2 =\n",
      "\n",
      "   4.0773   4.0381   4.0193   4.0096\n",
      "\n",
      "ans =  4.0096\n",
      "ans =  4.0059\n"
     ]
    }
   ],
   "source": [
    "% Maximum norm; analytical solution"
   ]
  },
  {
   "cell_type": "code",
   "execution_count": 8,
   "metadata": {},
   "outputs": [
    {
     "name": "stdout",
     "output_type": "stream",
     "text": [
      "order_comp_1 =\n",
      "\n",
      "   4.0210   4.0107\n",
      "\n",
      "order_comp_2 =\n",
      "\n",
      "   4.0391   4.0196\n",
      "\n",
      "ans =  4.0196\n",
      "ans =  4.0107\n"
     ]
    }
   ],
   "source": [
    "%% 2-norm; fine-grid solution"
   ]
  },
  {
   "cell_type": "code",
   "execution_count": null,
   "metadata": {
    "collapsed": true
   },
   "outputs": [],
   "source": []
  }
 ],
 "metadata": {
  "kernelspec": {
   "display_name": "Octave",
   "language": "octave",
   "name": "octave"
  },
  "language_info": {
   "file_extension": ".m",
   "help_links": [
    {
     "text": "GNU Octave",
     "url": "https://www.gnu.org/software/octave/support.html"
    },
    {
     "text": "Octave Kernel",
     "url": "https://github.com/Calysto/octave_kernel"
    },
    {
     "text": "MetaKernel Magics",
     "url": "https://metakernel.readthedocs.io/en/latest/source/README.html"
    }
   ],
   "mimetype": "text/x-octave",
   "name": "octave",
   "version": "5.1.0"
  }
 },
 "nbformat": 4,
 "nbformat_minor": 1
}
