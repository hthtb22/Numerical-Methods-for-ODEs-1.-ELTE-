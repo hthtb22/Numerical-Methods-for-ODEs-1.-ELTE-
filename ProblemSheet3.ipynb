{
 "cells": [
  {
   "cell_type": "markdown",
   "metadata": {},
   "source": [
    "## <center>Problem Sheet #3</center>\n",
    "\n",
    "<img src=\"betterstudents.gif\" width=\"700\">\n",
    "\n",
    "\n",
    "## Explicit Runge-Kutta methods (ERK methods)\n",
    "\n",
    "### Representations and <a href=\"https://en.wikipedia.org/wiki/John_C._Butcher\">Butcher tableau</a><br>\n",
    "\n",
    "<b>Problem 1.</b> Determine the second kind of representation for EE, RK2 and explicit trapezoidal methods. The formula for explicit trapezoidal method is\n",
    "$$y_{n+1}=y_n+h\\bigg(\\frac{1}{2}f(t_n,y_n)+\\frac{1}{2}f(t_{n+1},y_n+hf(t_n,y_n))\\bigg).$$\n",
    "<br>\n",
    "\n",
    "<b>Problem 2.</b> Determine the Butcher tableaus of the learned methods (EE, RK2, explicit trapezoidal, RK3, RK4).\n",
    "<br><br>\n",
    "\n",
    "<b>Problem 3.</b> Determine the ERK method based on its Butcher tableau.\n",
    "<br><br>\n",
    "\n",
    "(a) Kutta (1901)\n",
    "<table style=\"text-align: center\" cellpadding=\"3px\" cellspacing=\"0px\">\n",
    "<tr>\n",
    "<td style=\"border-right:1px solid;\">0</td>\n",
    "</tr>\n",
    "<tr>\n",
    "<td style=\"border-right:1px solid;\">1/2</td>\n",
    "<td >1/2</td>\n",
    "</tr>\n",
    "<tr>\n",
    "<td style=\"border-right:1px solid; border-bottom:1px solid;\">1</td>\n",
    "<td style=\"border-bottom:1px solid;\">-1</td>\n",
    "<td style=\"border-bottom:1px solid;\">2</td>\n",
    "<td style=\"border-bottom:1px solid;\"></td>\n",
    "</tr>\n",
    "<tr>\n",
    "<td style=\"border-right:1px solid;\"></td>\n",
    "<td>1/6</td>\n",
    "<td>2/3</td>\n",
    "<td>1/6</td>\n",
    "</tr>\n",
    "</table>\n",
    "\n",
    "\n",
    "(b) Two stage second order ERK ($\\alpha\\in\\mathbb{R}\\setminus \\{0\\}$)\n",
    "<table style=\"text-align: center\" cellpadding=\"3px\" cellspacing=\"0px\">\n",
    "<tr>\n",
    "<td style=\"border-right:1px solid;\">0</td>\n",
    "\n",
    "</tr>\n",
    "<tr>\n",
    "<td style=\"border-right:1px solid; border-bottom:1px solid;\">$\\alpha$</td>\n",
    "<td style=\"border-bottom:1px solid;\">$\\alpha$</td>\n",
    "<td style=\"border-bottom:1px solid;\"></td>\n",
    "\n",
    "</tr>\n",
    "<tr>\n",
    "<td style=\"border-right:1px solid;\"></td>\n",
    "<td>1-$\\frac{1}{2\\alpha}$</td>\n",
    "<td>$\\frac{1}{2\\alpha}$</td>\n",
    "</tr>\n",
    "</table>\n",
    "\n",
    "(c) Kutta (1901)\n",
    "<table style=\"text-align: center\" cellpadding=\"3px\" cellspacing=\"0px\">\n",
    "<tr>\n",
    "<td style=\"border-right:1px solid;\">0</td>\n",
    "</tr>\n",
    "<tr>\n",
    "<td style=\"border-right:1px solid;\">1/2</td>\n",
    "<td>1/2</td>\n",
    "</tr>\n",
    "<tr>\n",
    "<td style=\"border-right:1px solid;\">1/2</td>\n",
    "<td>0</td>\n",
    "<td>1/2</td>\n",
    "</tr>\n",
    "<tr>\n",
    "<td style=\"border-right:1px solid; border-bottom:1px solid;\">1</td>\n",
    "<td style=\"border-bottom:1px solid;\">0</td>\n",
    "<td style=\"border-bottom:1px solid;\">0</td>\n",
    "<td style=\"border-bottom:1px solid;\">1</td>\n",
    "<td style=\"border-bottom:1px solid;\"></td>\n",
    "</tr>\n",
    "<tr>\n",
    "<td style=\"border-right:1px solid;\"></td>\n",
    "<td>1/6</td>\n",
    "<td>1/3</td>\n",
    "<td>1/3</td>\n",
    "<td>1/6</td>\n",
    "</tr>\n",
    "</table>\n",
    "<br>\n",
    "<br>\n",
    "\n",
    "### Order conditions (Albrecht's approach and Butcher trees)\n",
    "<br>\n",
    "\n",
    "<b>Problem 4.</b> Check the order conditions for the EE, explicit trapezoidal, 3/(a) and 3/(c) methods by using MATLAB.\n"
   ]
  },
  {
   "cell_type": "code",
   "execution_count": null,
   "metadata": {},
   "outputs": [],
   "source": [
    "\n"
   ]
  },
  {
   "cell_type": "markdown",
   "metadata": {},
   "source": [
    "<b>Problem 5.</b> [Assignement] Write a program which decides the method's order up to fourth order conditions and prints the order for a given ERK method. In case of a wrong input parameter ($A$ or $b$) the program should give an error message.\n",
    "<br><br>\n",
    "\n",
    "<b>Problem 6.</b> [Extra] Determine the fifth order conditions by using Butcher trees.<br>\n",
    "[Extra] Texing the Butcher trees up to order 5.\n",
    "<br><br>\n",
    "\n",
    "### A-stability of ERK methods\n",
    "<br>\n",
    "<b>Problem 7.</b> Could an ERK method be A-stable?\n"
   ]
  },
  {
   "cell_type": "code",
   "execution_count": null,
   "metadata": {
    "collapsed": true
   },
   "outputs": [],
   "source": []
  }
 ],
 "metadata": {
  "kernelspec": {
   "display_name": "Octave",
   "language": "octave",
   "name": "octave"
  },
  "language_info": {
   "file_extension": ".m",
   "help_links": [
    {
     "text": "GNU Octave",
     "url": "https://www.gnu.org/software/octave/support.html"
    },
    {
     "text": "Octave Kernel",
     "url": "https://github.com/Calysto/octave_kernel"
    },
    {
     "text": "MetaKernel Magics",
     "url": "https://github.com/calysto/metakernel/blob/master/metakernel/magics/README.md"
    }
   ],
   "mimetype": "text/x-octave",
   "name": "octave",
   "version": "4.2.2"
  }
 },
 "nbformat": 4,
 "nbformat_minor": 1
}
